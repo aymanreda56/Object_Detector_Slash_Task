{
 "cells": [
  {
   "cell_type": "code",
   "execution_count": 47,
   "metadata": {},
   "outputs": [],
   "source": [
    "from ultralytics import YOLO"
   ]
  },
  {
   "cell_type": "code",
   "execution_count": 48,
   "metadata": {},
   "outputs": [
    {
     "name": "stdout",
     "output_type": "stream",
     "text": [
      "YOLOv8n summary: 225 layers, 3157200 parameters, 0 gradients, 8.9 GFLOPs\n",
      "\n",
      "image 1/1 d:\\Slash_Task\\dog.jpg: 480x640 1 bicycle, 1 car, 1 truck, 1 dog, 159.0ms\n",
      "Speed: 3.0ms preprocess, 159.0ms inference, 3.0ms postprocess per image at shape (1, 3, 480, 640)\n"
     ]
    }
   ],
   "source": [
    "# Load a COCO-pretrained YOLOv8n model\n",
    "model = YOLO(\"yolov8n.pt\")\n",
    "\n",
    "# Display model information (optional)\n",
    "model.info()\n",
    "\n",
    "# Run inference with the YOLOv8n model on the 'bus.jpg' image\n",
    "results = model.predict(source='dog.jpg', device='cpu', conf=0.2, iou=0.8)"
   ]
  },
  {
   "cell_type": "code",
   "execution_count": 49,
   "metadata": {},
   "outputs": [],
   "source": [
    "# print(results[0].boxes)\n",
    "list_of_names = [ results[0].names[(results[0].boxes.cls.cpu().numpy()[i])] for i in range(len(results[0].boxes.cls)) ]\n",
    "\n",
    "\n",
    "results_Dict = dict()\n",
    "for (i, classification) in enumerate(results[0].boxes.cls.cpu().numpy()):\n",
    "    results_Dict[results[0].names[classification]] = results[0].boxes.conf.cpu().numpy()[i]"
   ]
  },
  {
   "cell_type": "code",
   "execution_count": 50,
   "metadata": {},
   "outputs": [
    {
     "name": "stdout",
     "output_type": "stream",
     "text": [
      "['dog', 'bicycle', 'car', 'truck']\n",
      "{'dog': 0.9080021, 'bicycle': 0.8887636, 'car': 0.530585, 'truck': 0.50861555}\n"
     ]
    }
   ],
   "source": [
    "print(list_of_names)\n",
    "\n",
    "print(results_Dict)"
   ]
  },
  {
   "cell_type": "code",
   "execution_count": 51,
   "metadata": {},
   "outputs": [
    {
     "data": {
      "text/plain": [
       "'lol.jpg'"
      ]
     },
     "execution_count": 51,
     "metadata": {},
     "output_type": "execute_result"
    }
   ],
   "source": [
    "results[0].save('lol.jpg')"
   ]
  }
 ],
 "metadata": {
  "kernelspec": {
   "display_name": "Python 3",
   "language": "python",
   "name": "python3"
  },
  "language_info": {
   "codemirror_mode": {
    "name": "ipython",
    "version": 3
   },
   "file_extension": ".py",
   "mimetype": "text/x-python",
   "name": "python",
   "nbconvert_exporter": "python",
   "pygments_lexer": "ipython3",
   "version": "3.11.5"
  }
 },
 "nbformat": 4,
 "nbformat_minor": 2
}
